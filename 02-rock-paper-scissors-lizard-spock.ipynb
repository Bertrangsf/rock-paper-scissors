{
 "cells": [
  {
   "cell_type": "markdown",
   "metadata": {},
   "source": [
    "# Rock, Paper, Scissors, Lizard & Spock\n",
    "![](images/rpsls.jpg)\n",
    "\n",
    "In this challenge, you need to improve the previous game by adding two new options. To know more about the rules of the improved version of rock, paper, scissors, check this [link](http://www.samkass.com/theories/RPSSL.html). \n",
    "\n",
    "In addition, you will also need to improve how the game interacts with the player: the number of rounds to play, which must be an odd number, will be requested to the user until a valid number is entered. Define a new function to make that request.\n",
    "\n",
    "**Hint**: Try to reuse the code that you already coded in the previous challenge. If your code is efficient, this bonus will only consist of simple modifications to the original game."
   ]
  },
  {
   "cell_type": "code",
   "execution_count": 1,
   "metadata": {},
   "outputs": [],
   "source": [
    "import random \n",
    "gestures = ['rock', 'paper', 'scissors','lizard', 'spock']"
   ]
  },
  {
   "cell_type": "code",
   "execution_count": 2,
   "metadata": {},
   "outputs": [
    {
     "name": "stdout",
     "output_type": "stream",
     "text": [
      "How many games are you going to play?:  3\n"
     ]
    }
   ],
   "source": [
    "n_rounds = int(input(\"How many games are you going to play?:  \"))\n",
    "while n_rounds % 2 == 0:\n",
    "    n_rounds = int(input(\"It must be an odd number to determine a winner:  \"))    \n",
    "else:\n",
    "    n_rounds = n_rounds"
   ]
  },
  {
   "cell_type": "code",
   "execution_count": 3,
   "metadata": {},
   "outputs": [
    {
     "data": {
      "text/plain": [
       "2"
      ]
     },
     "execution_count": 3,
     "metadata": {},
     "output_type": "execute_result"
    }
   ],
   "source": [
    "rounds_to_win = int((1 + n_rounds) / 2)\n",
    "rounds_to_win"
   ]
  },
  {
   "cell_type": "code",
   "execution_count": 4,
   "metadata": {},
   "outputs": [],
   "source": [
    "cpu_score = 0 \n",
    "player_score = 0"
   ]
  },
  {
   "cell_type": "code",
   "execution_count": 5,
   "metadata": {},
   "outputs": [],
   "source": [
    "def cpu_gesture_choice():\n",
    "    cpu_gesture_choice = random.choice(gestures)\n",
    "    return cpu_gesture_choice"
   ]
  },
  {
   "cell_type": "code",
   "execution_count": 6,
   "metadata": {},
   "outputs": [],
   "source": [
    "def player_gesture_choice():\n",
    "    player_gesture_choice = (input(\"What gesture are you gonna show now?:  \")).lower()\n",
    "    while player_gesture_choice not in gestures:\n",
    "        player_gesture_choice = (input(\"Remember choosing between rock paper scissors lizard or spock:  \")).lower()\n",
    "    if player_gesture_choice in gestures:\n",
    "        player_gesture_choice\n",
    "        \n",
    "    return player_gesture_choice"
   ]
  },
  {
   "cell_type": "code",
   "execution_count": 7,
   "metadata": {},
   "outputs": [],
   "source": [
    "def who_wins(player_gesture_choice, cpu_gesture_choice):\n",
    "    cpu_score = 0\n",
    "    player_score = 0\n",
    "    player_gesture_choice = player_gesture_choice()\n",
    "    cpu_gesture_choice = cpu_gesture_choice()\n",
    "    \n",
    "    if cpu_gesture_choice == \"rock\":\n",
    "        if player_gesture_choice == \"rock\":\n",
    "            result = 0\n",
    "        if player_gesture_choice == \"paper\":\n",
    "            result = 2\n",
    "        if player_gesture_choice == \"scissors\":\n",
    "            result = 1\n",
    "        if player_gesture_choice == \"lizard\":\n",
    "            result = 1\n",
    "        if player_gesture_choice == \"spock\":\n",
    "            result = 2\n",
    "            \n",
    "    if cpu_gesture_choice == \"paper\":\n",
    "        if player_gesture_choice == \"rock\":\n",
    "            result = 1\n",
    "        if player_gesture_choice == \"paper\":\n",
    "            result = 0\n",
    "        if player_gesture_choice == \"scissors\":\n",
    "            result = 2\n",
    "        if player_gesture_choice == \"lizard\":\n",
    "            result = 2\n",
    "        if player_gesture_choice == \"spock\":\n",
    "            result = 1\n",
    "            \n",
    "    if cpu_gesture_choice == \"scissors\":\n",
    "        if player_gesture_choice == \"rock\":\n",
    "            result = 2\n",
    "        if player_gesture_choice == \"paper\":\n",
    "            result = 1\n",
    "        if player_gesture_choice == \"scissors\":\n",
    "            result = 0\n",
    "        if player_gesture_choice == \"lizard\":\n",
    "            result = 1\n",
    "        if player_gesture_choice == \"spock\":\n",
    "            result = 2\n",
    "            \n",
    "    if cpu_gesture_choice == \"lizard\":\n",
    "        if player_gesture_choice == \"rock\":\n",
    "            result = 2\n",
    "        if player_gesture_choice == \"paper\":\n",
    "            result = 1\n",
    "        if player_gesture_choice == \"scissors\":\n",
    "            result = 2\n",
    "        if player_gesture_choice == \"lizard\":\n",
    "            result = 0\n",
    "        if player_gesture_choice == \"spock\":\n",
    "            result = 1\n",
    "            \n",
    "    if cpu_gesture_choice == \"spock\":\n",
    "        if player_gesture_choice == \"rock\":\n",
    "            result = 1\n",
    "        if player_gesture_choice == \"paper\":\n",
    "            result = 2\n",
    "        if player_gesture_choice == \"scissors\":\n",
    "            result = 1\n",
    "        if player_gesture_choice == \"lizard\":\n",
    "            result = 2\n",
    "        if player_gesture_choice == \"spock\":\n",
    "            result = 0\n",
    "            \n",
    "    print(f\"You have choosen: {player_gesture_choice}\")\n",
    "    print(f\"The CPU have choosen: {cpu_gesture_choice}\")\n",
    "    \n",
    "    if result == 0:\n",
    "        print(f\"There is a Tie!\")\n",
    "    if result == 1:\n",
    "        print(\"YOU HAVE LOST\") \n",
    "    if result == 2:\n",
    "        print(\"YOU HAVE WON\")\n",
    "        \n",
    "    return result"
   ]
  },
  {
   "cell_type": "code",
   "execution_count": 8,
   "metadata": {},
   "outputs": [],
   "source": [
    "def The_Final_Game(n_rounds, rounds_to_win, player_score, cpu_score):\n",
    "    n_rounds = int(input(\"How many games are you going to play?:  \"))\n",
    "    while n_rounds % 2 == 0:\n",
    "        n_rounds = int(input(\"It must be an odd number to determine a winner:  \"))    \n",
    "    else:\n",
    "        n_rounds = n_rounds\n",
    "    rounds_to_win = int((1 + n_rounds) / 2)\n",
    "    player_score = 0\n",
    "    cpu_score = 0\n",
    "\n",
    "    while (player_score < rounds_to_win) and (cpu_score < rounds_to_win):\n",
    "        round_ = who_wins(player_gesture_choice, cpu_gesture_choice)\n",
    "        if round_ == 1: \n",
    "            cpu_score +=1\n",
    "        if round_ == 2:\n",
    "            player_score +=1\n",
    "        if round_ == 0:\n",
    "            player_score = player_score\n",
    "    if player_score > cpu_score:\n",
    "        winer = \"You have won\"\n",
    "    if player_score < cpu_score:\n",
    "        winer = \"CPU have won\"\n",
    "    if player_score == cpu_score:\n",
    "        winer = \"There is a tie\"\n",
    "    if player_score == rounds_to_win:\n",
    "        print(\"¡Congratulations, You have won!\")\n",
    "    if cpu_score == rounds_to_win:\n",
    "         print(\"It is a shame, you have lost\")"
   ]
  },
  {
   "cell_type": "code",
   "execution_count": 11,
   "metadata": {},
   "outputs": [
    {
     "name": "stdout",
     "output_type": "stream",
     "text": [
      "How many games are you going to play?:  3\n",
      "What gesture are you gonna show now?:  lizard\n",
      "You have choosen: lizard\n",
      "The CPU have choosen: lizard\n",
      "There is a Tie!\n",
      "What gesture are you gonna show now?:  spock\n",
      "You have choosen: spock\n",
      "The CPU have choosen: rock\n",
      "YOU HAVE WON\n",
      "What gesture are you gonna show now?:  spock\n",
      "You have choosen: spock\n",
      "The CPU have choosen: paper\n",
      "YOU HAVE LOST\n",
      "What gesture are you gonna show now?:  rock\n",
      "You have choosen: rock\n",
      "The CPU have choosen: rock\n",
      "There is a Tie!\n",
      "What gesture are you gonna show now?:  lizard\n",
      "You have choosen: lizard\n",
      "The CPU have choosen: lizard\n",
      "There is a Tie!\n",
      "What gesture are you gonna show now?:  spock\n",
      "You have choosen: spock\n",
      "The CPU have choosen: rock\n",
      "YOU HAVE WON\n",
      "¡Congratulations, You have won!\n"
     ]
    }
   ],
   "source": [
    "The_Final_Game(n_rounds, rounds_to_win, player_score, cpu_score)"
   ]
  }
 ],
 "metadata": {
  "kernelspec": {
   "display_name": "Python 3",
   "language": "python",
   "name": "python3"
  },
  "language_info": {
   "codemirror_mode": {
    "name": "ipython",
    "version": 3
   },
   "file_extension": ".py",
   "mimetype": "text/x-python",
   "name": "python",
   "nbconvert_exporter": "python",
   "pygments_lexer": "ipython3",
   "version": "3.8.5"
  },
  "toc": {
   "base_numbering": 1,
   "nav_menu": {},
   "number_sections": true,
   "sideBar": true,
   "skip_h1_title": false,
   "title_cell": "Table of Contents",
   "title_sidebar": "Contents",
   "toc_cell": false,
   "toc_position": {},
   "toc_section_display": true,
   "toc_window_display": false
  }
 },
 "nbformat": 4,
 "nbformat_minor": 5
}
